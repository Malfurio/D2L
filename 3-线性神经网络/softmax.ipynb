{
 "cells": [
  {
   "attachments": {},
   "cell_type": "markdown",
   "metadata": {},
   "source": [
    "## Softmax回归\n"
   ]
  },
  {
   "cell_type": "code",
   "execution_count": 4,
   "metadata": {},
   "outputs": [],
   "source": [
    "from IPython.display import Latex"
   ]
  },
  {
   "attachments": {},
   "cell_type": "markdown",
   "metadata": {},
   "source": [
    "1.对分类对象进行one-hot编码，(1,0,0,...0)\n",
    "\n",
    "2.网络架构是全连接层，$O=WX+b$\n",
    "\n",
    "3.softmax运算\n",
    "$$\\hat{y}=softmax(o)$$\n",
    "$$\\hat{y}_j = \\frac{exp(o_j)}{\\Sigma_k exp(o_k)}$$"
   ]
  },
  {
   "attachments": {},
   "cell_type": "markdown",
   "metadata": {},
   "source": [
    "因为对于所有的j总有$0\\le \\hat{y}_j \\le 1$，所以可以视为一个概率分布"
   ]
  }
 ],
 "metadata": {
  "kernelspec": {
   "display_name": "pyd2l",
   "language": "python",
   "name": "python3"
  },
  "language_info": {
   "codemirror_mode": {
    "name": "ipython",
    "version": 3
   },
   "file_extension": ".py",
   "mimetype": "text/x-python",
   "name": "python",
   "nbconvert_exporter": "python",
   "pygments_lexer": "ipython3",
   "version": "3.10.9"
  },
  "orig_nbformat": 4
 },
 "nbformat": 4,
 "nbformat_minor": 2
}
